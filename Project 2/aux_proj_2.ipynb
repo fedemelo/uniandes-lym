{
 "cells": [
  {
   "cell_type": "code",
   "execution_count": 8,
   "id": "c3885ce6",
   "metadata": {},
   "outputs": [
    {
     "name": "stdout",
     "output_type": "stream",
     "text": [
      "    elseif q = \"q2\" and σ = '#' then\n",
      "        return \"q3#\"\n",
      "    elseif q = \"q3\" and σ = '#' then\n",
      "        return \"q4#\"\n",
      "    elseif q = \"q4\" and σ = '#' then\n",
      "        return \"q5#\"\n"
     ]
    }
   ],
   "source": [
    "for i in range(2,5):\n",
    "    print(\"    elseif q = \\\"q\"+str(i)+\"\\\" and σ = '#' then\")\n",
    "    print(\"        return \\\"q\"+str(i+1)+\"#\\\"\")"
   ]
  },
  {
   "cell_type": "code",
   "execution_count": 6,
   "id": "f5d84ec9",
   "metadata": {},
   "outputs": [
    {
     "name": "stdout",
     "output_type": "stream",
     "text": [
      "        elseif σ = '0' and count%3 = 0 then\n",
      "            return \"q6\"\n",
      "        elseif σ = '1' and count%3 = 1 then\n",
      "            return \"q6\"\n",
      "        elseif σ = '2' and count%3 = 2 then\n",
      "            return \"q6\"\n"
     ]
    }
   ],
   "source": [
    "for i in range(0,3):\n",
    "    print(\"        elseif σ = '\"+str(i)+\"' and count%3 = \"+str(i)+\" then\")\n",
    "    print(\"            return \\\"q6\\\"\")"
   ]
  },
  {
   "cell_type": "code",
   "execution_count": 33,
   "id": "777eb340",
   "metadata": {},
   "outputs": [
    {
     "name": "stdout",
     "output_type": "stream",
     "text": [
      "        return \"q1\"\r\n",
      "    elseif σ = 'P' and q = \"q1\" then\n",
      "        return \"q2\"\r\n",
      "    elseif σ = 'E' and q = \"q2\" then\n",
      "        return \"q3\"\r\n",
      "    elseif σ = 'N' and q = \"q3\" then\n",
      "        return \"q4\"\r\n",
      "    elseif σ = 'D' and q = \"q4\" then\n",
      "        return \"q5\"\r\n",
      "    elseif σ = 'O' and q = \"q5\" then\n",
      "        return \"q6\"\r\n",
      "    elseif σ = 'W' and q = \"q6\" then\n",
      "        return \"q7\"\r\n",
      "    elseif σ = 'N' and q = \"q7\" then\n"
     ]
    }
   ],
   "source": [
    "num = 0\n",
    "for i in cadena:\n",
    "    num += 1\n",
    "    print(\"        return \\\"q\"+str(num)+\"\\\"\\r\\n    elseif σ = \\'\"+i+\"\\' and q = \\\"q\"+str(num)+\"\\\" then\")"
   ]
  },
  {
   "cell_type": "code",
   "execution_count": 30,
   "id": "9b9eb08b",
   "metadata": {
    "scrolled": true
   },
   "outputs": [
    {
     "name": "stdout",
     "output_type": "stream",
     "text": [
      "Q := {\"q0\", \"qFORWAR\", \"qRIGHT_N_\", \"qFO\", \"qREPE\", \"qREPEAT\", \"qPENUP\", \"q.\", \"qRIGHT_\", \"qPEN\", \"qP\", \"qPENDO\", \"qRT_\", \"qFORWARD_N\", \"qF\", \"qRIGH\", \"qFORWARD_N_\", \"qFORWA\", \"qLEFT\", \"qLT_N\", \"qPENUP_\", \"qLEFT_\", \"qPENDOW\", \"qREPEAT_N_\", \"qRIGHT_N\", \"qFORWARD_\", \"qREP\", \"qREPEAT_N\", \"qPENU\", \"qPENDOWN\", \"qFOR\", \"qLEFT_N\", \"qRT_N_\", \"qRE\", \"qRIG\", \"qFORW\", \"qLT\", \"qFD\", \"qFORWARD\", \"qPEND\", \"qFD_N\", \"qLT_N_\", \"qREPEA\", \"qL\", \"qREPEAT_\", \"qPENDOWN_\", \"qFD_\", \"qRI\", \"qLEFT_N_\", \"qRT\", \"qRIGHT\", \"qLE\", \"qR\", \"qFD_N_\", \"qRT_N\", \"qLEF\", \"qPE\", \"qLT_\", \"q0\"}\n",
      "F := {, \"q.\", \"q.\", \"q.\", \"q.\", \"q.\", \"q.\"}\n",
      "    elseif σ = 'F' and q = \"q0\" then\r\n",
      "        return \"qF\"\r\n",
      "    elseif σ = 'O' and q = \"qF\" then\r\n",
      "        return \"qFO\"\r\n",
      "    elseif σ = 'R' and q = \"qFO\" then\r\n",
      "        return \"qFOR\"\r\n",
      "    elseif σ = 'W' and q = \"qFOR\" then\r\n",
      "        return \"qFORW\"\r\n",
      "    elseif σ = 'A' and q = \"qFORW\" then\r\n",
      "        return \"qFORWA\"\r\n",
      "    elseif σ = 'R' and q = \"qFORWA\" then\r\n",
      "        return \"qFORWAR\"\r\n",
      "    elseif σ = 'D' and q = \"qFORWAR\" then\r\n",
      "        return \"qFORWARD\"\r\n",
      "    elseif q = \"qFORWARD\" and σ = ' ' then\r\n",
      "        return \"qFORWARD_\"\r\n",
      "    elseif q = \"qFORWARD_\" and σ = ' ' then\r\n",
      "        return \"qFORWARD_\"\r\n",
      "    elseif q = \"qFORWARD_\" and (σ = '0' or σ = '1' or σ = '2' or σ = '3' or σ = '4' or σ = '5' or σ = '6' or σ = '7' or σ = '8' or σ = '9') then\r\n",
      "        return \"qFORWARD_N\"\r\n",
      "    elseif q = \"qFORWARD_N\" and (σ = '0' or σ = '1' or σ = '2' or σ = '3' or σ = '4' or σ = '5' or σ = '6' or σ = '7' or σ = '8' or σ = '9') then\r\n",
      "        return  \"qFORWARD_N\"\r\n",
      "    elseif σ = ' ' and (q = \"qFORWARD_N\" or q = \"qFORWARD_N_\")then\r\n",
      "        return \"qFORWARD_N_\"\r\n",
      "    elseif σ = '.' and q = \"qFORWARD_N\" then\r\n",
      "        return \"q.\"\r\n",
      "    elseif σ = '.' and q = \"qFORWARD_N_\" then\r\n",
      "        return \"q.\"\r\n",
      "\r\n",
      "    elseif σ = 'F' and q = \"q0\" then\r\n",
      "        return \"qF\"\r\n",
      "    elseif σ = 'D' and q = \"qF\" then\r\n",
      "        return \"qFD\"\r\n",
      "    elseif q = \"qFD\" and σ = ' ' then\r\n",
      "        return \"qFD_\"\r\n",
      "    elseif q = \"qFD_\" and σ = ' ' then\r\n",
      "        return \"qFD_\"\r\n",
      "    elseif q = \"qFD_\" and (σ = '0' or σ = '1' or σ = '2' or σ = '3' or σ = '4' or σ = '5' or σ = '6' or σ = '7' or σ = '8' or σ = '9') then\r\n",
      "        return \"qFD_N\"\r\n",
      "    elseif q = \"qFD_N\" and (σ = '0' or σ = '1' or σ = '2' or σ = '3' or σ = '4' or σ = '5' or σ = '6' or σ = '7' or σ = '8' or σ = '9') then\r\n",
      "        return  \"qFD_N\"\r\n",
      "    elseif σ = ' ' and (q = \"qFD_N\" or q = \"qFD_N_\")then\r\n",
      "        return \"qFD_N_\"\r\n",
      "    elseif σ = '.' and q = \"qFD_N\" then\r\n",
      "        return \"q.\"\r\n",
      "    elseif σ = '.' and q = \"qFD_N_\" then\r\n",
      "        return \"q.\"\r\n",
      "\r\n",
      "    elseif σ = 'R' and q = \"q0\" then\r\n",
      "        return \"qR\"\r\n",
      "    elseif σ = 'I' and q = \"qR\" then\r\n",
      "        return \"qRI\"\r\n",
      "    elseif σ = 'G' and q = \"qRI\" then\r\n",
      "        return \"qRIG\"\r\n",
      "    elseif σ = 'H' and q = \"qRIG\" then\r\n",
      "        return \"qRIGH\"\r\n",
      "    elseif σ = 'T' and q = \"qRIGH\" then\r\n",
      "        return \"qRIGHT\"\r\n",
      "    elseif q = \"qRIGHT\" and σ = ' ' then\r\n",
      "        return \"qRIGHT_\"\r\n",
      "    elseif q = \"qRIGHT_\" and σ = ' ' then\r\n",
      "        return \"qRIGHT_\"\r\n",
      "    elseif q = \"qRIGHT_\" and (σ = '0' or σ = '1' or σ = '2' or σ = '3' or σ = '4' or σ = '5' or σ = '6' or σ = '7' or σ = '8' or σ = '9') then\r\n",
      "        return \"qRIGHT_N\"\r\n",
      "    elseif q = \"qRIGHT_N\" and (σ = '0' or σ = '1' or σ = '2' or σ = '3' or σ = '4' or σ = '5' or σ = '6' or σ = '7' or σ = '8' or σ = '9') then\r\n",
      "        return  \"qRIGHT_N\"\r\n",
      "    elseif σ = ' ' and (q = \"qRIGHT_N\" or q = \"qRIGHT_N_\")then\r\n",
      "        return \"qRIGHT_N_\"\r\n",
      "    elseif σ = '.' and q = \"qRIGHT_N\" then\r\n",
      "        return \"q.\"\r\n",
      "    elseif σ = '.' and q = \"qRIGHT_N_\" then\r\n",
      "        return \"q.\"\r\n",
      "\r\n",
      "    elseif σ = 'R' and q = \"q0\" then\r\n",
      "        return \"qR\"\r\n",
      "    elseif σ = 'T' and q = \"qR\" then\r\n",
      "        return \"qRT\"\r\n",
      "    elseif q = \"qRT\" and σ = ' ' then\r\n",
      "        return \"qRT_\"\r\n",
      "    elseif q = \"qRT_\" and σ = ' ' then\r\n",
      "        return \"qRT_\"\r\n",
      "    elseif q = \"qRT_\" and (σ = '0' or σ = '1' or σ = '2' or σ = '3' or σ = '4' or σ = '5' or σ = '6' or σ = '7' or σ = '8' or σ = '9') then\r\n",
      "        return \"qRT_N\"\r\n",
      "    elseif q = \"qRT_N\" and (σ = '0' or σ = '1' or σ = '2' or σ = '3' or σ = '4' or σ = '5' or σ = '6' or σ = '7' or σ = '8' or σ = '9') then\r\n",
      "        return  \"qRT_N\"\r\n",
      "    elseif σ = ' ' and (q = \"qRT_N\" or q = \"qRT_N_\")then\r\n",
      "        return \"qRT_N_\"\r\n",
      "    elseif σ = '.' and q = \"qRT_N\" then\r\n",
      "        return \"q.\"\r\n",
      "    elseif σ = '.' and q = \"qRT_N_\" then\r\n",
      "        return \"q.\"\r\n",
      "\r\n",
      "    elseif σ = 'L' and q = \"q0\" then\r\n",
      "        return \"qL\"\r\n",
      "    elseif σ = 'E' and q = \"qL\" then\r\n",
      "        return \"qLE\"\r\n",
      "    elseif σ = 'F' and q = \"qLE\" then\r\n",
      "        return \"qLEF\"\r\n",
      "    elseif σ = 'T' and q = \"qLEF\" then\r\n",
      "        return \"qLEFT\"\r\n",
      "    elseif q = \"qLEFT\" and σ = ' ' then\r\n",
      "        return \"qLEFT_\"\r\n",
      "    elseif q = \"qLEFT_\" and σ = ' ' then\r\n",
      "        return \"qLEFT_\"\r\n",
      "    elseif q = \"qLEFT_\" and (σ = '0' or σ = '1' or σ = '2' or σ = '3' or σ = '4' or σ = '5' or σ = '6' or σ = '7' or σ = '8' or σ = '9') then\r\n",
      "        return \"qLEFT_N\"\r\n",
      "    elseif q = \"qLEFT_N\" and (σ = '0' or σ = '1' or σ = '2' or σ = '3' or σ = '4' or σ = '5' or σ = '6' or σ = '7' or σ = '8' or σ = '9') then\r\n",
      "        return  \"qLEFT_N\"\r\n",
      "    elseif σ = ' ' and (q = \"qLEFT_N\" or q = \"qLEFT_N_\")then\r\n",
      "        return \"qLEFT_N_\"\r\n",
      "    elseif σ = '.' and q = \"qLEFT_N\" then\r\n",
      "        return \"q.\"\r\n",
      "    elseif σ = '.' and q = \"qLEFT_N_\" then\r\n",
      "        return \"q.\"\r\n",
      "\r\n",
      "    elseif σ = 'L' and q = \"q0\" then\r\n",
      "        return \"qL\"\r\n",
      "    elseif σ = 'T' and q = \"qL\" then\r\n",
      "        return \"qLT\"\r\n",
      "    elseif q = \"qLT\" and σ = ' ' then\r\n",
      "        return \"qLT_\"\r\n",
      "    elseif q = \"qLT_\" and σ = ' ' then\r\n",
      "        return \"qLT_\"\r\n",
      "    elseif q = \"qLT_\" and (σ = '0' or σ = '1' or σ = '2' or σ = '3' or σ = '4' or σ = '5' or σ = '6' or σ = '7' or σ = '8' or σ = '9') then\r\n",
      "        return \"qLT_N\"\r\n",
      "    elseif q = \"qLT_N\" and (σ = '0' or σ = '1' or σ = '2' or σ = '3' or σ = '4' or σ = '5' or σ = '6' or σ = '7' or σ = '8' or σ = '9') then\r\n",
      "        return  \"qLT_N\"\r\n",
      "    elseif σ = ' ' and (q = \"qLT_N\" or q = \"qLT_N_\")then\r\n",
      "        return \"qLT_N_\"\r\n",
      "    elseif σ = '.' and q = \"qLT_N\" then\r\n",
      "        return \"q.\"\r\n",
      "    elseif σ = '.' and q = \"qLT_N_\" then\r\n",
      "        return \"q.\"\r\n",
      "\r\n",
      "    elseif σ = 'R' and q = \"q0\" then\r\n",
      "        return \"qR\"\r\n",
      "    elseif σ = 'E' and q = \"qR\" then\r\n",
      "        return \"qRE\"\r\n",
      "    elseif σ = 'P' and q = \"qRE\" then\r\n",
      "        return \"qREP\"\r\n",
      "    elseif σ = 'E' and q = \"qREP\" then\r\n",
      "        return \"qREPE\"\r\n",
      "    elseif σ = 'A' and q = \"qREPE\" then\r\n",
      "        return \"qREPEA\"\r\n",
      "    elseif σ = 'T' and q = \"qREPEA\" then\r\n",
      "        return \"qREPEAT\"\r\n",
      "    elseif q = \"qREPEAT\" and σ = ' ' then\r\n",
      "        return \"qREPEAT_\"\r\n",
      "    elseif q = \"qREPEAT_\" and σ = ' ' then\r\n",
      "        return \"qREPEAT_\"\r\n",
      "    elseif q = \"qREPEAT_\" and (σ = '0' or σ = '1' or σ = '2' or σ = '3' or σ = '4' or σ = '5' or σ = '6' or σ = '7' or σ = '8' or σ = '9') then\r\n",
      "        return \"qREPEAT_N\"\r\n",
      "    elseif q = \"qREPEAT_N\" and (σ = '0' or σ = '1' or σ = '2' or σ = '3' or σ = '4' or σ = '5' or σ = '6' or σ = '7' or σ = '8' or σ = '9') then\r\n",
      "        return  \"qREPEAT_N\"\r\n",
      "    elseif σ = ' ' and (q = \"qREPEAT_N\" or q = \"qREPEAT_N_\")then\r\n",
      "        return \"qREPEAT_N_\"\r\n",
      "    elseif σ = '.' and q = \"qREPEAT_N\" then\r\n",
      "        return \"q.\"\r\n",
      "    elseif σ = '.' and q = \"qREPEAT_N_\" then\r\n",
      "        return \"q.\"\r\n",
      "\r\n",
      "    elseif σ = 'P' and q = \"q0\" then\r\n",
      "        return \"qP\"\r\n",
      "    elseif σ = 'E' and q = \"qP\" then\r\n",
      "        return \"qPE\"\r\n",
      "    elseif σ = 'N' and q = \"qPE\" then\r\n",
      "        return \"qPEN\"\r\n",
      "    elseif σ = 'U' and q = \"qPEN\" then\r\n",
      "        return \"qPENU\"\r\n",
      "    elseif σ = 'P' and q = \"qPENU\" then\r\n",
      "        return \"qPENUP\"\r\n",
      "    elseif q = \"qPENUP\" and σ = ' ' then\r\n",
      "        return \"qPENUP_\"\r\n",
      "    elseif q = \"qPENUP_\" and σ = ' ' then\r\n",
      "        return \"qPENUP_\"\r\n",
      "    elseif σ = '.' and q = \"qPENUP_\" then\r\n",
      "        return \"q.\"\r\n",
      "\r\n",
      "    elseif σ = 'P' and q = \"q0\" then\r\n",
      "        return \"qP\"\r\n",
      "    elseif σ = 'E' and q = \"qP\" then\r\n",
      "        return \"qPE\"\r\n",
      "    elseif σ = 'N' and q = \"qPE\" then\r\n",
      "        return \"qPEN\"\r\n",
      "    elseif σ = 'D' and q = \"qPEN\" then\r\n",
      "        return \"qPEND\"\r\n",
      "    elseif σ = 'O' and q = \"qPEND\" then\r\n",
      "        return \"qPENDO\"\r\n",
      "    elseif σ = 'W' and q = \"qPENDO\" then\r\n",
      "        return \"qPENDOW\"\r\n",
      "    elseif σ = 'N' and q = \"qPENDOW\" then\r\n",
      "        return \"qPENDOWN\"\r\n",
      "    elseif q = \"qPENDOWN\" and σ = ' ' then\r\n",
      "        return \"qPENDOWN_\"\r\n",
      "    elseif q = \"qPENDOWN_\" and σ = ' ' then\r\n",
      "        return \"qPENDOWN_\"\r\n",
      "    elseif σ = '.' and q = \"qPENDOWN_\" then\r\n",
      "        return \"q.\"\r\n",
      "\r\n",
      "\n"
     ]
    }
   ],
   "source": [
    "cadenas = [\"FORWARD\", \"FD\", \"RIGHT\", \"RT\", \"LEFT\", \"LT\", \"REPEAT\", \"PENUP\", \"PENDOWN\"]\n",
    "q_str = \"Q := {\\\"q0\\\"\"\n",
    "conds = \"\"\n",
    "for cadena in cadenas:\n",
    "    nom = \"\"\n",
    "    for i in cadena:\n",
    "        if nom == \"\":\n",
    "            conds += \"    elseif σ = \\'\"+i+\"\\' and q = \\\"q0\\\" then\\r\\n\"\n",
    "        else:\n",
    "            conds += \"    elseif σ = \\'\"+i+\"\\' and q = \\\"q\"+nom+\"\\\" then\\r\\n\" \n",
    "        nom += i\n",
    "        conds += \"        return \\\"q\"+nom+\"\\\"\\r\\n\"\n",
    "        qs.append(\"q\"+nom)\n",
    "    nom += \"_\"\n",
    "    qs.append(\"q\"+nom)\n",
    "    conds += \"    elseif q = \\\"q\"+nom[:-1]+\"\\\" and σ = ' ' then\\r\\n        return \\\"q\"+nom+\"\\\"\\r\\n\"\n",
    "    conds += \"    elseif q = \\\"q\"+nom+\"\\\" and σ = ' ' then\\r\\n        return \\\"q\"+nom+\"\\\"\\r\\n\"\n",
    "    if cadena in [\"FORWARD\", \"FD\", \"RIGHT\", \"RT\", \"LEFT\", \"LT\", \"REPEAT\"]:\n",
    "        conds += \"    elseif q = \\\"q\"+nom+\"\\\" and (σ = '0' or σ = '1' or σ = '2' or σ = '3' or σ = '4' or σ = '5' or σ = '6' or σ = '7' or σ = '8' or σ = '9') then\\r\\n\"\n",
    "        nom += \"N\"\n",
    "        qs.append(\"q\"+nom)\n",
    "        conds += \"        return \\\"q\"+nom+\"\\\"\\r\\n\"\n",
    "        conds += \"    elseif q = \\\"q\"+nom+\"\\\" and (σ = '0' or σ = '1' or σ = '2' or σ = '3' or σ = '4' or σ = '5' or σ = '6' or σ = '7' or σ = '8' or σ = '9') then\\r\\n        return  \\\"q\"+nom+\"\\\"\\r\\n\"\n",
    "        nom += \"_\"\n",
    "        qs.append(\"q\"+nom)\n",
    "        conds += \"    elseif σ = ' ' and (q = \\\"q\"+nom[:-1]+\"\\\" or q = \\\"q\"+nom+\"\\\")then\\r\\n        return \\\"q\"+nom+\"\\\"\\r\\n\"\n",
    "        conds += \"    elseif σ = '.' and q = \\\"q\"+nom[:-1]+\"\\\" then\\r\\n        return \\\"q.\\\"\\r\\n\"\n",
    "    conds += \"    elseif σ = '.' and q = \\\"q\"+nom+\"\\\" then\\r\\n        return \\\"q.\\\"\\r\\n\"\n",
    "    qs.append(\"q.\")\n",
    "    conds += \"\\r\\n\"\n",
    "for q in set(qs):\n",
    "    q_str += \", \\\"\"+q+\"\\\"\"\n",
    "q_str += \"}\"\n",
    "print(q_str)\n",
    "print(q_finales)\n",
    "print(conds)"
   ]
  },
  {
   "cell_type": "code",
   "execution_count": 15,
   "id": "d86e7b07",
   "metadata": {},
   "outputs": [
    {
     "name": "stdout",
     "output_type": "stream",
     "text": [
      "    elseif σ = 'N' and q = \"qPENDOW\" then\r\n",
      "        return \"T1\"\r\n",
      "    elseif σ = 'D' and q = \"qFORWAR\" then\r\n",
      "        return \"T2\"\r\n",
      "    elseif σ = 'T' and q = \"qRIGH\" then\r\n",
      "        return \"T3\"\r\n",
      "    elseif σ = 'T' and q = \"qLEF\" then\r\n",
      "        return \"T4\"\r\n",
      "    elseif σ = 'T' and q = \"qREPEA\" then\r\n",
      "        return \"T5\"\r\n",
      "    elseif σ = 'P' and q = \"qPENU\" then\r\n",
      "        return \"T6\"\r\n",
      "    elseif σ = 'D' and q = \"qF\" then\r\n",
      "        return \"T7\"\r\n",
      "    elseif σ = 'T' and q = \"qR\" then\r\n",
      "        return \"T8\"\r\n",
      "    elseif σ = 'T' and q = \"qL\" then\r\n",
      "        return \"T9\"\r\n",
      "\r\n",
      "    elseif q = \"qFORWARD_\" and (σ = '0' or σ = '1' or σ = '2' or σ = '3' or σ = '4' or σ = '5' or σ = '6' or σ = '7' or σ = '8' or σ = '9') then\r\n",
      "        return \"N\"\r\n",
      "    elseif q = \"qRIGHT_\" and (σ = '0' or σ = '1' or σ = '2' or σ = '3' or σ = '4' or σ = '5' or σ = '6' or σ = '7' or σ = '8' or σ = '9') then\r\n",
      "        return \"N\"\r\n",
      "    elseif q = \"qLEFT_\" and (σ = '0' or σ = '1' or σ = '2' or σ = '3' or σ = '4' or σ = '5' or σ = '6' or σ = '7' or σ = '8' or σ = '9') then\r\n",
      "        return \"N\"\r\n",
      "    elseif q = \"qREPEAT_\" and (σ = '0' or σ = '1' or σ = '2' or σ = '3' or σ = '4' or σ = '5' or σ = '6' or σ = '7' or σ = '8' or σ = '9') then\r\n",
      "        return \"N\"\r\n",
      "    elseif q = \"qFD_\" and (σ = '0' or σ = '1' or σ = '2' or σ = '3' or σ = '4' or σ = '5' or σ = '6' or σ = '7' or σ = '8' or σ = '9') then\r\n",
      "        return \"N\"\r\n",
      "    elseif q = \"qLT_\" and (σ = '0' or σ = '1' or σ = '2' or σ = '3' or σ = '4' or σ = '5' or σ = '6' or σ = '7' or σ = '8' or σ = '9') then\r\n",
      "        return \"N\"\r\n",
      "    elseif q = \"qRT_\" and (σ = '0' or σ = '1' or σ = '2' or σ = '3' or σ = '4' or σ = '5' or σ = '6' or σ = '7' or σ = '8' or σ = '9') then\r\n",
      "        return \"N\"\r\n",
      "\n"
     ]
    }
   ],
   "source": [
    "conds = \"\"\n",
    "tks = [\"PENDOWN\", \"FORWARD\", \"RIGHT\", \"LEFT\", \"REPEAT\", \"PENUP\", \"FD\", \"RT\", \"LT\" ]\n",
    "for cadena in tks:\n",
    "    conds += \"    elseif σ = \\'\"+cadena[-1]+\"\\' and q = \\\"q\"+cadena[:-1]+\"\\\" then\\r\\n\" \n",
    "    conds += \"        return \\\"T\"+str(tks.index(cadena)+1)+\"\\\"\\r\\n\"\n",
    "conds+=\"\\r\\n\"\n",
    "for cadena in [\"FORWARD\", \"RIGHT\", \"LEFT\", \"REPEAT\", \"FD\", \"LT\", \"RT\"]:\n",
    "    conds += \"    elseif q = \\\"q\"+cadena+\"_\\\" and (σ = '0' or σ = '1' or σ = '2' or σ = '3' or σ = '4' or σ = '5' or σ = '6' or σ = '7' or σ = '8' or σ = '9') then\\r\\n\"\n",
    "    conds += \"        return \\\"N\\\"\\r\\n\"\n",
    "print(conds)"
   ]
  },
  {
   "cell_type": "code",
   "execution_count": 53,
   "id": "1d722a25",
   "metadata": {},
   "outputs": [
    {
     "name": "stdout",
     "output_type": "stream",
     "text": [
      "    elseif q = \"qFORWARDN\"  and (σ = '0' or σ = '1' or σ = '2' or σ = '3' or σ = '4' or σ = '5' or σ = '6' or σ = '7' or σ = '8' or σ = '9') then\r\n",
      "        return \"qFORWARDN\"\r\n",
      "    elseif q = \"qRIGHTN\"  and (σ = '0' or σ = '1' or σ = '2' or σ = '3' or σ = '4' or σ = '5' or σ = '6' or σ = '7' or σ = '8' or σ = '9') then\r\n",
      "        return \"qRIGHTN\"\r\n",
      "    elseif q = \"qLEFTN\"  and (σ = '0' or σ = '1' or σ = '2' or σ = '3' or σ = '4' or σ = '5' or σ = '6' or σ = '7' or σ = '8' or σ = '9') then\r\n",
      "        return \"qLEFTN\"\r\n",
      "    elseif q = \"qREPEATN\"  and (σ = '0' or σ = '1' or σ = '2' or σ = '3' or σ = '4' or σ = '5' or σ = '6' or σ = '7' or σ = '8' or σ = '9') then\r\n",
      "        return \"qREPEATN\"\r\n",
      "    elseif q = \"qFDN\"  and (σ = '0' or σ = '1' or σ = '2' or σ = '3' or σ = '4' or σ = '5' or σ = '6' or σ = '7' or σ = '8' or σ = '9') then\r\n",
      "        return \"qFDN\"\r\n",
      "    elseif q = \"qRTN\"  and (σ = '0' or σ = '1' or σ = '2' or σ = '3' or σ = '4' or σ = '5' or σ = '6' or σ = '7' or σ = '8' or σ = '9') then\r\n",
      "        return \"qRTN\"\r\n",
      "    elseif q = \"qLTN\"  and (σ = '0' or σ = '1' or σ = '2' or σ = '3' or σ = '4' or σ = '5' or σ = '6' or σ = '7' or σ = '8' or σ = '9') then\r\n",
      "        return \"qLTN\"\r\n",
      "\n"
     ]
    }
   ],
   "source": [
    "conds = \"\"\n",
    "for cadena in [\"FORWARD\", \"RIGHT\", \"LEFT\", \"REPEAT\", \"FD\", \"RT\", \"LT\"]:\n",
    "    conds += \"    elseif q = \\\"q\"+cadena+\"N\\\"  and (σ = '0' or σ = '1' or σ = '2' or σ = '3' or σ = '4' or σ = '5' or σ = '6' or σ = '7' or σ = '8' or σ = '9') then\\r\\n\"\n",
    "    conds += \"        return \\\"q\"+cadena+\"N\\\"\\r\\n\"\n",
    "print(conds)"
   ]
  },
  {
   "cell_type": "code",
   "execution_count": 16,
   "id": "52b0abcb",
   "metadata": {},
   "outputs": [
    {
     "name": "stdout",
     "output_type": "stream",
     "text": [
      "    elseif σ = 'P' and (q = \"q.\" or q = \"q._\" or \"qAbre\") then\r\n",
      "        return \"qP\"\r\n",
      "    elseif σ = 'F' and (q = \"q.\" or q = \"q._\" or \"qAbre\") then\r\n",
      "        return \"qF\"\r\n",
      "    elseif σ = 'R' and (q = \"q.\" or q = \"q._\" or \"qAbre\") then\r\n",
      "        return \"qR\"\r\n",
      "    elseif σ = 'L' and (q = \"q.\" or q = \"q._\" or \"qAbre\") then\r\n",
      "        return \"qL\"\r\n",
      "\r\n",
      "\n"
     ]
    }
   ],
   "source": [
    "conds = \"\"\n",
    "for L in [\"P\", \"F\", \"R\", \"L\"]:\n",
    "    conds += \"    elseif σ = \\'\"+L+\"\\' and (q = \\\"q.\\\" or q = \\\"q._\\\" or q = \\\"qAbre\\\") then\\r\\n\" \n",
    "    conds += \"        return \\\"q\"+L+\"\\\"\\r\\n\"\n",
    "conds+=\"\\r\\n\"\n",
    "print(conds)"
   ]
  },
  {
   "cell_type": "code",
   "execution_count": 1,
   "id": "2fbed30b",
   "metadata": {},
   "outputs": [
    {
     "data": {
      "text/plain": [
       "46"
      ]
     },
     "execution_count": 1,
     "metadata": {},
     "output_type": "execute_result"
    }
   ],
   "source": [
    "len({\"q0\", \"qF\", \"qFO\", \"qFOR\", \"qFORW\", \"qFORWA\", \"qFORWAR\", \"qFORWARD\", \"qFORWARDN\", \"qFD\", \n",
    "\t      \"qR\", \"qRI\", \"qRIG\", \"qRIGH\", \"qRIGHT\", \"qRIGHTN\", \"qRT\", \n",
    "\t      \"qL\", \"qLE\", \"qLEF\", \"qLEFT\", \"qLEFTN\", \"qLT\", \n",
    "\t      \"qR\", \"qRE\", \"qREP\", \"qREPE\", \"qREPEA\", \"qREPEAT\", \"qREPEATN\", \n",
    "\t      \"qP\", \"qPE\", \"qPEN\", \"qPENU\", \"qPENUP\", \n",
    "\t      \"qP\", \"qPE\", \"qPEN\", \"qPEND\", \"qPENDO\", \"qPENDOW\", \"qPENDOWN\", \n",
    "\t      \"q.\", \"qAbre\", \"qCierra\", \"qN\", \"qFDN\", \"qRTN\", \"qLTN\",\n",
    "\t      \"B\"})"
   ]
  },
  {
   "cell_type": "code",
   "execution_count": 4,
   "id": "75051649",
   "metadata": {},
   "outputs": [
    {
     "data": {
      "text/plain": [
       "46"
      ]
     },
     "execution_count": 4,
     "metadata": {},
     "output_type": "execute_result"
    }
   ],
   "source": [
    "len({\"q0\", \"qF\", \"qFO\", \"qFOR\", \"qFORW\", \"qFORWA\", \"qFORWAR\", \"qFORWARD\", \"qFORWARD_\", \"qFORWARD_N\", \"qFORWARD_N_\", \"q.\", \"qR\", \"qRI\", \"qRIG\", \"qRIGH\", \"qRIGHT\", \"qRIGHT_\", \"qRIGHT_N\", \"qRIGHT_N_\", \"q.\", \"qL\", \"qLE\", \"qLEF\", \"qLEFT\", \"qLEFT_\", \"qLEFT_N\", \"qLEFT_N_\", \"q.\", \"qR\", \"qRE\", \"qREP\", \"qREPE\", \"qREPEA\", \"qREPEAT\", \"qREPEAT_\", \"qREPEAT_N\", \"qREPEAT_N_\", \"q.\", \"qP\", \"qPE\", \"qPEN\", \"qPENU\", \"qPENUP\", \"qPENUP_\", \"q.\", \"qP\", \"qPE\", \"qPEN\", \"qPEND\", \"qPENDO\", \"qPENDOW\", \"qPENDOWN\", \"qPENDOWN_\", \"q.\"})"
   ]
  },
  {
   "cell_type": "code",
   "execution_count": null,
   "id": "bf8426bc",
   "metadata": {},
   "outputs": [],
   "source": []
  }
 ],
 "metadata": {
  "kernelspec": {
   "display_name": "Python 3 (ipykernel)",
   "language": "python",
   "name": "python3"
  },
  "language_info": {
   "codemirror_mode": {
    "name": "ipython",
    "version": 3
   },
   "file_extension": ".py",
   "mimetype": "text/x-python",
   "name": "python",
   "nbconvert_exporter": "python",
   "pygments_lexer": "ipython3",
   "version": "3.9.12"
  }
 },
 "nbformat": 4,
 "nbformat_minor": 5
}
