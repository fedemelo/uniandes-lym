{
 "cells": [
  {
   "cell_type": "code",
   "execution_count": 1,
   "id": "7f9183d0",
   "metadata": {},
   "outputs": [],
   "source": [
    "words: list = [\"PROG\", \"GORP\", \"VAR\", \"PROC\", \"CORP\"]\n",
    "ctrl_structs: list = [\"if\", \"else\", \"fi\", \"while\", \"do\", \"od\", \"repeatTimes\", \"per\"]\n",
    "conds: list = [\"isfacing\", \"isValid\", \"canWalk\", \"not\"]\n",
    "commands: list = [\"walk\", \"jump\", \"jumpTo\", \"veer\", \"look\", \"drop\", \"grab\", \"get\", \"free\", \"pop\", \"pick\"]\n",
    "veer_dirs: list = [\"left\", \"right\", \"around\"]\n",
    "card_dirs: list = [\"north\", \"south\", \"east\", \"west\"]\n",
    "walk_dirs: list = [\"left\", \"right\", \"front\", \"back\"]\n",
    "lists = [words, ctrl_structs, conds, commands, veer_dirs, card_dirs, walk_dirs]\n",
    "keywords = words+ctrl_structs+conds+commands+veer_dirs+card_dirs+walk_dirs"
   ]
  },
  {
   "cell_type": "code",
   "execution_count": 2,
   "id": "d9066d9d",
   "metadata": {},
   "outputs": [],
   "source": [
    "words_tkns: list = [\"D\", \"G\", \"A\", \"P\", \"C\"]\n",
    "ctrl_structs_tkns: list = [\"i\", \"s\", \"f\", \"w\", \"x\", \"y\", \"r\", \"p\"]\n",
    "conds_tkns: list = [\"b\", \"h\", \"c\", \"n\"]\n",
    "commands_tkns: list = [\"k\", \"j\", \"t\", \"q\", \"l\", \"d\", \"a\", \"g\", \"e\", \"o\", \"m\", ]\n",
    "veer_dirs_tkns: list = [\"L\", \"R\", \"O\"]\n",
    "card_dirs_tkns: list = [\"N\", \"S\", \"E\", \"W\"]\n",
    "walk_dirs_tkns: list = [\"L\", \"R\", \"F\", \"B\"]\n",
    "vars: list = [\"v\",\"V\"]\n",
    "syms = [\"#\", \"=\"]\n",
    "lists_tkns = [words_tkns, ctrl_structs_tkns, conds_tkns, commands_tkns, veer_dirs_tkns, card_dirs_tkns, walk_dirs_tkns, syms, vars]\n",
    "tokens = words_tkns+ctrl_structs_tkns+conds_tkns+commands_tkns+veer_dirs_tkns+card_dirs_tkns+walk_dirs_tkns"
   ]
  },
  {
   "cell_type": "code",
   "execution_count": 24,
   "id": "e942b1de",
   "metadata": {},
   "outputs": [
    {
     "data": {
      "text/plain": [
       "set()"
      ]
     },
     "execution_count": 24,
     "metadata": {},
     "output_type": "execute_result"
    }
   ],
   "source": [
    "states: set = set()"
   ]
  },
  {
   "cell_type": "code",
   "execution_count": null,
   "id": "6ca49647",
   "metadata": {},
   "outputs": [],
   "source": []
  },
  {
   "cell_type": "code",
   "execution_count": 16,
   "id": "674717a1",
   "metadata": {},
   "outputs": [
    {
     "name": "stdout",
     "output_type": "stream",
     "text": [
      "    // walk(n) command\n",
      "    M.delta(qBlock, \"qWalk\", walk).push(walk)\n",
      "    M.delta(\"qInstr;\", \"qWalk\", walk).changeTop(commandBegin, walk)  // ; walk\n",
      "    M.delta(\"qWalk\", \"qWalk(\", '(').push(par)\n",
      "    M.delta(\"qWalk(\", \"qWalkP\", v).pop(par)\n",
      "    M.delta(\"qWalk(\", \"qWalkP\", '#').pop(par)\n",
      "    M.delta(\"qWalkP\", qBlock, ')').changeTop(walk, commandEnd)\n",
      "\n",
      "\n",
      "    // jump(n) command\n",
      "    M.delta(qBlock, \"qJump\", jump).push(jump)\n",
      "    M.delta(\"qInstr;\", \"qJump\", jump).changeTop(commandBegin, jump)  // ; jump\n",
      "    M.delta(\"qJump\", \"qJump(\", '(').push(par)\n",
      "    M.delta(\"qJump(\", \"qJumpP\", v).pop(par)\n",
      "    M.delta(\"qJump(\", \"qJumpP\", '#').pop(par)\n",
      "    M.delta(\"qJumpP\", qBlock, ')').changeTop(jump, commandEnd)\n",
      "\n",
      "\n",
      "    // veer(n) command\n",
      "    M.delta(qBlock, \"qVeer\", veer).push(veer)\n",
      "    M.delta(\"qInstr;\", \"qVeer\", veer).changeTop(commandBegin, veer)  // ; veer\n",
      "    M.delta(\"qVeer\", \"qVeer(\", '(').push(par)\n",
      "    M.delta(\"qVeer(\", \"qVeerP\", v).pop(par)\n",
      "    M.delta(\"qVeer(\", \"qVeerP\", '#').pop(par)\n",
      "    M.delta(\"qVeerP\", qBlock, ')').changeTop(veer, commandEnd)\n",
      "\n",
      "\n",
      "    // look(n) command\n",
      "    M.delta(qBlock, \"qLook\", look).push(look)\n",
      "    M.delta(\"qInstr;\", \"qLook\", look).changeTop(commandBegin, look)  // ; look\n",
      "    M.delta(\"qLook\", \"qLook(\", '(').push(par)\n",
      "    M.delta(\"qLook(\", \"qLookP\", v).pop(par)\n",
      "    M.delta(\"qLook(\", \"qLookP\", '#').pop(par)\n",
      "    M.delta(\"qLookP\", qBlock, ')').changeTop(look, commandEnd)\n",
      "\n",
      "\n",
      "    // drop(n) command\n",
      "    M.delta(qBlock, \"qDrop\", drop).push(drop)\n",
      "    M.delta(\"qInstr;\", \"qDrop\", drop).changeTop(commandBegin, drop)  // ; drop\n",
      "    M.delta(\"qDrop\", \"qDrop(\", '(').push(par)\n",
      "    M.delta(\"qDrop(\", \"qDropP\", v).pop(par)\n",
      "    M.delta(\"qDrop(\", \"qDropP\", '#').pop(par)\n",
      "    M.delta(\"qDropP\", qBlock, ')').changeTop(drop, commandEnd)\n",
      "\n",
      "\n",
      "    // grab(n) command\n",
      "    M.delta(qBlock, \"qGrab\", grab).push(grab)\n",
      "    M.delta(\"qInstr;\", \"qGrab\", grab).changeTop(commandBegin, grab)  // ; grab\n",
      "    M.delta(\"qGrab\", \"qGrab(\", '(').push(par)\n",
      "    M.delta(\"qGrab(\", \"qGrabP\", v).pop(par)\n",
      "    M.delta(\"qGrab(\", \"qGrabP\", '#').pop(par)\n",
      "    M.delta(\"qGrabP\", qBlock, ')').changeTop(grab, commandEnd)\n",
      "\n",
      "\n",
      "    // get(n) command\n",
      "    M.delta(qBlock, \"qGet\", get).push(get)\n",
      "    M.delta(\"qInstr;\", \"qGet\", get).changeTop(commandBegin, get)  // ; get\n",
      "    M.delta(\"qGet\", \"qGet(\", '(').push(par)\n",
      "    M.delta(\"qGet(\", \"qGetP\", v).pop(par)\n",
      "    M.delta(\"qGet(\", \"qGetP\", '#').pop(par)\n",
      "    M.delta(\"qGetP\", qBlock, ')').changeTop(get, commandEnd)\n",
      "\n",
      "\n",
      "    // free(n) command\n",
      "    M.delta(qBlock, \"qFree\", free).push(free)\n",
      "    M.delta(\"qInstr;\", \"qFree\", free).changeTop(commandBegin, free)  // ; free\n",
      "    M.delta(\"qFree\", \"qFree(\", '(').push(par)\n",
      "    M.delta(\"qFree(\", \"qFreeP\", v).pop(par)\n",
      "    M.delta(\"qFree(\", \"qFreeP\", '#').pop(par)\n",
      "    M.delta(\"qFreeP\", qBlock, ')').changeTop(free, commandEnd)\n",
      "\n",
      "\n",
      "    // pop(n) command\n",
      "    M.delta(qBlock, \"qPop\", pop).push(pop)\n",
      "    M.delta(\"qInstr;\", \"qPop\", pop).changeTop(commandBegin, pop)  // ; pop\n",
      "    M.delta(\"qPop\", \"qPop(\", '(').push(par)\n",
      "    M.delta(\"qPop(\", \"qPopP\", v).pop(par)\n",
      "    M.delta(\"qPop(\", \"qPopP\", '#').pop(par)\n",
      "    M.delta(\"qPopP\", qBlock, ')').changeTop(pop, commandEnd)\n",
      "\n",
      "\n",
      "    // pick(n) command\n",
      "    M.delta(qBlock, \"qPick\", pick).push(pick)\n",
      "    M.delta(\"qInstr;\", \"qPick\", pick).changeTop(commandBegin, pick)  // ; pick\n",
      "    M.delta(\"qPick\", \"qPick(\", '(').push(par)\n",
      "    M.delta(\"qPick(\", \"qPickP\", v).pop(par)\n",
      "    M.delta(\"qPick(\", \"qPickP\", '#').pop(par)\n",
      "    M.delta(\"qPickP\", qBlock, ')').changeTop(pick, commandEnd)\n",
      "\n",
      "\n"
     ]
    }
   ],
   "source": [
    "newStates: set = set()\n",
    "for c in commands:\n",
    "    if c == 'jumpTo':\n",
    "        continue\n",
    "    print('    // '+c+'(n) command')\n",
    "    qASSIGN: str = \"\\\"q\"+c[0].upper()+c[1:]+\"\\\"\"\n",
    "    print(\"    M.delta(qBlock, \"+qASSIGN+\", \"+c+\").push(\"+c+\")\")\n",
    "    print(\"    M.delta(\\\"qInstr;\\\", \"+qASSIGN+\", \"+c+\").changeTop(commandBegin, \"+c+\")  // ; \"+c)\n",
    "    print(\"    M.delta(\"+qASSIGN+\", \"+qASSIGN[:-1]+\"(\\\"\"+\", '(').push(par)\")\n",
    "    print(\"    M.delta(\"+qASSIGN[:-1]+\"(\\\"\"+\", \"+qASSIGN[:-1]+\"P\\\"\"+\", v).pop(par)\")\n",
    "    print(\"    M.delta(\"+qASSIGN[:-1]+\"(\\\"\"+\", \"+qASSIGN[:-1]+\"P\\\"\"+\", '#').pop(par)\")\n",
    "    print(\"    M.delta(\"+qASSIGN[:-1]+\"P\\\"\"+\", qBlock\"+\", ')').changeTop(\"+c+\", commandEnd)\")\n",
    "    print('\\n')\n",
    "    newStates = newStates.union({qASSIGN, qASSIGN[:-1]+\"(\\\"\", qASSIGN[:-1]+\"P\\\"\", qASSIGN[:-1]+\")\\\"\"})"
   ]
  },
  {
   "cell_type": "code",
   "execution_count": 14,
   "id": "942e2fd4",
   "metadata": {},
   "outputs": [
    {
     "name": "stdout",
     "output_type": "stream",
     "text": [
      "{'\"qLookP\"', '\"qDropP\"', '\"qJump(\"', '\"qJump\"', '\"qPopP\"', '\"qGrab(\"', '\"qVeer(\"', '\"qFree(\"', '\"qDrop)\"', '\"qPop\"', '\"qWalk\"', '\"qJump)\"', '\"qFree)\"', '\"qWalkP\"', '\"qLook\"', '\"qVeer)\"', '\"qGet)\"', '\"qPop(\"', '\"qFree\"', '\"qDrop(\"', '\"qPickP\"', '\"qJumpP\"', '\"qGrab\"', '\"qWalk(\"', '\"qLook(\"', '\"qDrop\"', '\"qGet\"', '\"qGrabP\"', '\"qWalk)\"', '\"qGet(\"', '\"qPick)\"', '\"qLook)\"', '\"qGrab)\"', '\"qVeer\"', '\"qFreeP\"', '\"qVeerP\"', '\"qPop)\"', '\"qGetP\"', '\"qPick(\"', '\"qPick\"'}\n"
     ]
    }
   ],
   "source": [
    "print(newStates)"
   ]
  },
  {
   "cell_type": "code",
   "execution_count": 23,
   "id": "39e6b51f",
   "metadata": {},
   "outputs": [],
   "source": [
    "def state(current_state: str, next_state: str, char: str, action:str = \"ignore\", stack_char1: str = \"\", stack_char2: str = \"\") -> str:\n",
    "    end: str\n",
    "    states.add(current_state)\n",
    "    states.add(next_state)\n",
    "    if action == \"ignore\":\n",
    "        end = \".ignore()\"\n",
    "    elif action in ('pop', 'push'):\n",
    "        end = \".\"+action+\"(\"+stack_char1+\")\"\n",
    "    elif action == \"changeTop\":\n",
    "        end = \".changeTop(\"+stack_char1+\", \"+stack_char2+\")\"\n",
    "    else:\n",
    "        raise Exception(\"Esta acción no la puedes hacer sobre la pila, príncipe\")\n",
    "    return \"M.delta(\\\"\"+current_state+\"\\\", \\\"\"+next_state+\"\\\", \"+char+\")\"+end"
   ]
  },
  {
   "cell_type": "code",
   "execution_count": 40,
   "id": "52f8ac55",
   "metadata": {},
   "outputs": [
    {
     "name": "stdout",
     "output_type": "stream",
     "text": [
      "M.delta(\"qPROC)\", \"qPROCinstrs\", {).pop({)\n"
     ]
    }
   ],
   "source": [
    "desde: str = \"qPROC)\"\n",
    "hasta: str = \"qPROCinstrs\"\n",
    "con: str = \"{\"\n",
    "print(state(desde, hasta, con, \"pop\", \"{\"))"
   ]
  },
  {
   "cell_type": "code",
   "execution_count": 41,
   "id": "51c4a9be",
   "metadata": {},
   "outputs": [
    {
     "data": {
      "text/plain": [
       "{'q,',\n",
       " 'q1',\n",
       " 'q;',\n",
       " 'qPROC',\n",
       " 'qPROC(',\n",
       " 'qPROC)',\n",
       " 'qPROC,',\n",
       " 'qPROCinstrs',\n",
       " 'qPROCp',\n",
       " 'qPROCv',\n",
       " 'qVAR',\n",
       " 'qv'}"
      ]
     },
     "execution_count": 41,
     "metadata": {},
     "output_type": "execute_result"
    }
   ],
   "source": [
    "states"
   ]
  },
  {
   "cell_type": "code",
   "execution_count": 42,
   "id": "ae49e37f",
   "metadata": {},
   "outputs": [
    {
     "name": "stdout",
     "output_type": "stream",
     "text": [
      "var PROG: String\n",
      "var GORP: String\n",
      "var VAR: String\n",
      "var PROC: String\n",
      "var CORP: String\n",
      "var if: String\n",
      "var else: String\n",
      "var fi: String\n",
      "var while: String\n",
      "var do: String\n",
      "var od: String\n",
      "var repeatTimes: String\n",
      "var per: String\n",
      "var isfacing: String\n",
      "var isValid: String\n",
      "var canWalk: String\n",
      "var not: String\n",
      "var walk: String\n",
      "var jump: String\n",
      "var jumpTo: String\n",
      "var veer: String\n",
      "var look: String\n",
      "var drop: String\n",
      "var grab: String\n",
      "var get: String\n",
      "var free: String\n",
      "var pop: String\n",
      "var pick: String\n",
      "var left: String\n",
      "var right: String\n",
      "var around: String\n",
      "var north: String\n",
      "var south: String\n",
      "var east: String\n",
      "var west: String\n",
      "var left: String\n",
      "var right: String\n",
      "var front: String\n",
      "var back: String\n",
      "\n",
      "PROG := \"D\"\n",
      "GORP := \"G\"\n",
      "VAR := \"A\"\n",
      "PROC := \"P\"\n",
      "CORP := \"C\"\n",
      "if := \"i\"\n",
      "else := \"s\"\n",
      "fi := \"f\"\n",
      "while := \"w\"\n",
      "do := \"x\"\n",
      "od := \"y\"\n",
      "repeatTimes := \"r\"\n",
      "per := \"p\"\n",
      "isfacing := \"b\"\n",
      "isValid := \"h\"\n",
      "canWalk := \"c\"\n",
      "not := \"n\"\n",
      "walk := \"k\"\n",
      "jump := \"j\"\n",
      "jumpTo := \"t\"\n",
      "veer := \"q\"\n",
      "look := \"l\"\n",
      "drop := \"d\"\n",
      "grab := \"a\"\n",
      "get := \"g\"\n",
      "free := \"e\"\n",
      "pop := \"o\"\n",
      "pick := \"m\"\n",
      "left := \"L\"\n",
      "right := \"R\"\n",
      "around := \"O\"\n",
      "north := \"N\"\n",
      "south := \"S\"\n",
      "east := \"E\"\n",
      "west := \"W\"\n",
      "left := \"L\"\n",
      "right := \"R\"\n",
      "front := \"F\"\n",
      "back := \"B\"\n",
      "\n"
     ]
    }
   ],
   "source": [
    "defs: str = \"\"\n",
    "assigns: str = \"\"\n",
    "for i in range(len(tokens)):\n",
    "    defs += \"var \"+keywords[i]+\": String\"+\"\\n\"\n",
    "    assigns += keywords[i]+\" := \\\"\"+tokens[i]+\"\\\"\"+\"\\n\"\n",
    "print(defs)\n",
    "print(assigns)"
   ]
  },
  {
   "cell_type": "code",
   "execution_count": null,
   "id": "06c5a961",
   "metadata": {},
   "outputs": [],
   "source": []
  }
 ],
 "metadata": {
  "kernelspec": {
   "display_name": "Python 3.9.12 ('base')",
   "language": "python",
   "name": "python3"
  },
  "language_info": {
   "codemirror_mode": {
    "name": "ipython",
    "version": 3
   },
   "file_extension": ".py",
   "mimetype": "text/x-python",
   "name": "python",
   "nbconvert_exporter": "python",
   "pygments_lexer": "ipython3",
   "version": "3.9.12"
  },
  "vscode": {
   "interpreter": {
    "hash": "ad2bdc8ecc057115af97d19610ffacc2b4e99fae6737bb82f5d7fb13d2f2c186"
   }
  }
 },
 "nbformat": 4,
 "nbformat_minor": 5
}
