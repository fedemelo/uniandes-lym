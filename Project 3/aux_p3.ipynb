{
 "cells": [
  {
   "cell_type": "code",
   "execution_count": 9,
   "id": "7f9183d0",
   "metadata": {},
   "outputs": [],
   "source": [
    "words: list = [\"PROG\", \"GORP\", \"VAR\", \"PROC\", \"CORP\"]\n",
    "ctrl_structs: list = [\"if\", \"else\", \"fi\", \"while\", \"do\", \"od\", \"repeatTimes\", \"per\"]\n",
    "conds: list = [\"isfacing\", \"isValid\", \"canWalk\", \"not\"]\n",
    "commands: list = [\"walk\", \"jump\", \"jumpTo\", \"veer\", \"look\", \"drop\", \"grab\", \"get\", \"free\", \"pop\", \"pick\"]\n",
    "veer_dirs: list = [\"left\", \"right\", \"around\"]\n",
    "card_dirs: list = [\"north\", \"south\", \"east\", \"west\"]\n",
    "walk_dirs: list = [\"left\", \"right\", \"front\", \"back\"]\n",
    "lists = [words, ctrl_structs, conds, commands, veer_dirs, card_dirs, walk_dirs]\n",
    "keywords = words+ctrl_structs+conds+commands+veer_dirs+card_dirs+walk_dirs"
   ]
  },
  {
   "cell_type": "code",
   "execution_count": 10,
   "id": "d9066d9d",
   "metadata": {},
   "outputs": [],
   "source": [
    "words_tkns: list = [\"D\", \"G\", \"A\", \"P\", \"C\"]\n",
    "ctrl_structs_tkns: list = [\"i\", \"s\", \"f\", \"w\", \"x\", \"y\", \"r\", \"p\"]\n",
    "conds_tkns: list = [\"b\", \"h\", \"c\", \"n\"]\n",
    "commands_tkns: list = [\"k\", \"j\", \"t\", \"q\", \"l\", \"d\", \"a\", \"g\", \"e\", \"o\", \"m\", ]\n",
    "veer_dirs_tkns: list = [\"L\", \"R\", \"O\"]\n",
    "card_dirs_tkns: list = [\"N\", \"S\", \"E\", \"W\"]\n",
    "walk_dirs_tkns: list = [\"L\", \"R\", \"F\", \"B\"]\n",
    "vars: list = [\"v\",\"V\"]\n",
    "syms = [\"#\", \"=\"]\n",
    "lists_tkns = [words_tkns, ctrl_structs_tkns, conds_tkns, commands_tkns, veer_dirs_tkns, card_dirs_tkns, walk_dirs_tkns, syms, vars]\n",
    "tokens = words_tkns+ctrl_structs_tkns+conds_tkns+commands_tkns+veer_dirs_tkns+card_dirs_tkns+walk_dirs_tkns"
   ]
  },
  {
   "cell_type": "code",
   "execution_count": 24,
   "id": "e942b1de",
   "metadata": {},
   "outputs": [
    {
     "data": {
      "text/plain": [
       "set()"
      ]
     },
     "execution_count": 24,
     "metadata": {},
     "output_type": "execute_result"
    }
   ],
   "source": [
    "states: set = set()"
   ]
  },
  {
   "cell_type": "code",
   "execution_count": 23,
   "id": "39e6b51f",
   "metadata": {},
   "outputs": [],
   "source": [
    "def state(current_state: str, next_state: str, char: str, action:str = \"ignore\", stack_char1: str = \"\", stack_char2: str = \"\") -> str:\n",
    "    end: str\n",
    "    states.add(current_state)\n",
    "    states.add(next_state)\n",
    "    if action == \"ignore\":\n",
    "        end = \".ignore()\"\n",
    "    elif action in ('pop', 'push'):\n",
    "        end = \".\"+action+\"(\"+stack_char1+\")\"\n",
    "    elif action == \"changeTop\":\n",
    "        end = \".changeTop(\"+stack_char1+\", \"+stack_char2+\")\"\n",
    "    else:\n",
    "        raise Exception(\"Esta acción no la puedes hacer sobre la pila, príncipe\")\n",
    "    return \"M.delta(\\\"\"+current_state+\"\\\", \\\"\"+next_state+\"\\\", \"+char+\")\"+end"
   ]
  },
  {
   "cell_type": "code",
   "execution_count": 40,
   "id": "52f8ac55",
   "metadata": {},
   "outputs": [
    {
     "name": "stdout",
     "output_type": "stream",
     "text": [
      "M.delta(\"qPROC)\", \"qPROCinstrs\", {).pop({)\n"
     ]
    }
   ],
   "source": [
    "desde: str = \"qPROC)\"\n",
    "hasta: str = \"qPROCinstrs\"\n",
    "con: str = \"{\"\n",
    "print(state(desde, hasta, con, \"pop\", \"{\"))"
   ]
  },
  {
   "cell_type": "code",
   "execution_count": 41,
   "id": "51c4a9be",
   "metadata": {},
   "outputs": [
    {
     "data": {
      "text/plain": [
       "{'q,',\n",
       " 'q1',\n",
       " 'q;',\n",
       " 'qPROC',\n",
       " 'qPROC(',\n",
       " 'qPROC)',\n",
       " 'qPROC,',\n",
       " 'qPROCinstrs',\n",
       " 'qPROCp',\n",
       " 'qPROCv',\n",
       " 'qVAR',\n",
       " 'qv'}"
      ]
     },
     "execution_count": 41,
     "metadata": {},
     "output_type": "execute_result"
    }
   ],
   "source": [
    "states"
   ]
  },
  {
   "cell_type": "code",
   "execution_count": 42,
   "id": "ae49e37f",
   "metadata": {},
   "outputs": [
    {
     "name": "stdout",
     "output_type": "stream",
     "text": [
      "var PROG: String\n",
      "var GORP: String\n",
      "var VAR: String\n",
      "var PROC: String\n",
      "var CORP: String\n",
      "var if: String\n",
      "var else: String\n",
      "var fi: String\n",
      "var while: String\n",
      "var do: String\n",
      "var od: String\n",
      "var repeatTimes: String\n",
      "var per: String\n",
      "var isfacing: String\n",
      "var isValid: String\n",
      "var canWalk: String\n",
      "var not: String\n",
      "var walk: String\n",
      "var jump: String\n",
      "var jumpTo: String\n",
      "var veer: String\n",
      "var look: String\n",
      "var drop: String\n",
      "var grab: String\n",
      "var get: String\n",
      "var free: String\n",
      "var pop: String\n",
      "var pick: String\n",
      "var left: String\n",
      "var right: String\n",
      "var around: String\n",
      "var north: String\n",
      "var south: String\n",
      "var east: String\n",
      "var west: String\n",
      "var left: String\n",
      "var right: String\n",
      "var front: String\n",
      "var back: String\n",
      "\n",
      "PROG := \"D\"\n",
      "GORP := \"G\"\n",
      "VAR := \"A\"\n",
      "PROC := \"P\"\n",
      "CORP := \"C\"\n",
      "if := \"i\"\n",
      "else := \"s\"\n",
      "fi := \"f\"\n",
      "while := \"w\"\n",
      "do := \"x\"\n",
      "od := \"y\"\n",
      "repeatTimes := \"r\"\n",
      "per := \"p\"\n",
      "isfacing := \"b\"\n",
      "isValid := \"h\"\n",
      "canWalk := \"c\"\n",
      "not := \"n\"\n",
      "walk := \"k\"\n",
      "jump := \"j\"\n",
      "jumpTo := \"t\"\n",
      "veer := \"q\"\n",
      "look := \"l\"\n",
      "drop := \"d\"\n",
      "grab := \"a\"\n",
      "get := \"g\"\n",
      "free := \"e\"\n",
      "pop := \"o\"\n",
      "pick := \"m\"\n",
      "left := \"L\"\n",
      "right := \"R\"\n",
      "around := \"O\"\n",
      "north := \"N\"\n",
      "south := \"S\"\n",
      "east := \"E\"\n",
      "west := \"W\"\n",
      "left := \"L\"\n",
      "right := \"R\"\n",
      "front := \"F\"\n",
      "back := \"B\"\n",
      "\n"
     ]
    }
   ],
   "source": [
    "defs: str = \"\"\n",
    "assigns: str = \"\"\n",
    "for i in range(len(tokens)):\n",
    "    defs += \"var \"+keywords[i]+\": String\"+\"\\n\"\n",
    "    assigns += keywords[i]+\" := \\\"\"+tokens[i]+\"\\\"\"+\"\\n\"\n",
    "print(defs)\n",
    "print(assigns)"
   ]
  },
  {
   "cell_type": "code",
   "execution_count": null,
   "id": "06c5a961",
   "metadata": {},
   "outputs": [],
   "source": []
  }
 ],
 "metadata": {
  "kernelspec": {
   "display_name": "Python 3.9.12 ('base')",
   "language": "python",
   "name": "python3"
  },
  "language_info": {
   "codemirror_mode": {
    "name": "ipython",
    "version": 3
   },
   "file_extension": ".py",
   "mimetype": "text/x-python",
   "name": "python",
   "nbconvert_exporter": "python",
   "pygments_lexer": "ipython3",
   "version": "3.9.12"
  },
  "vscode": {
   "interpreter": {
    "hash": "ad2bdc8ecc057115af97d19610ffacc2b4e99fae6737bb82f5d7fb13d2f2c186"
   }
  }
 },
 "nbformat": 4,
 "nbformat_minor": 5
}
